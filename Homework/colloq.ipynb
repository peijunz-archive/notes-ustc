{
 "cells": [
  {
   "cell_type": "markdown",
   "metadata": {},
   "source": [
    "## Bilayer Graphene\n",
    "2D Massless Dirac equation valence/conduction bands, fermi energy. The cross point of Valence/Conduction bands is Dirac point?"
   ]
  },
  {
   "cell_type": "markdown",
   "metadata": {},
   "source": [
    "Bilayer AB Stackering: There is a atom at the center of lower layer."
   ]
  },
  {
   "cell_type": "markdown",
   "metadata": {},
   "source": [
    "Big picture of Bilayer graphene band structure"
   ]
  },
  {
   "cell_type": "markdown",
   "metadata": {},
   "source": [
    "Bilayer Graphene Ps ferromagnet\n",
    "Psudo spin 4Pi\n",
    "Psudo spin nearby in mementum space. Change rapidly. Long range interaction.\n",
    "\n",
    "Break symmetry?\n",
    "Onelayer down one down. Momentum change 2pi, psudospin does not change"
   ]
  },
  {
   "cell_type": "markdown",
   "metadata": {},
   "source": [
    "Gapped states in Bilayer Graphene"
   ]
  },
  {
   "cell_type": "markdown",
   "metadata": {},
   "source": [
    "Berry curvature chern index."
   ]
  },
  {
   "cell_type": "markdown",
   "metadata": {},
   "source": [
    "Direction of psudospin as a function of momentum. "
   ]
  },
  {
   "cell_type": "markdown",
   "metadata": {},
   "source": [
    "Nobel Prize"
   ]
  },
  {
   "cell_type": "markdown",
   "metadata": {},
   "source": [
    "# Topological insulators\n",
    "$Z_2$ topo-insu. Time reversal symmetry: cramer's Theorem. Degenerate by 2. \n",
    "Spin orbit torque\n",
    "Twp Channel conduction & CPP(Current perpendicular to plane) GMR\n",
    "\n",
    "Spin orbit torque in TI DMSs"
   ]
  },
  {
   "cell_type": "markdown",
   "metadata": {},
   "source": [
    "manipulate 2D material in the 3rd dimension\n",
    "Overlap graphene/BN but rotate a bit get new pattern.(also has hexagonal symmetry)"
   ]
  },
  {
   "cell_type": "markdown",
   "metadata": {},
   "source": [
    "Hofstadter's butterfly is a mathematical object describing the theorised behaviour of electrons in a magnetic field. "
   ]
  },
  {
   "cell_type": "markdown",
   "metadata": {},
   "source": [
    "Fractional Hofstader"
   ]
  },
  {
   "cell_type": "markdown",
   "metadata": {},
   "source": [
    "## Moire Patterns"
   ]
  },
  {
   "cell_type": "markdown",
   "metadata": {},
   "source": [
    "In 2013, three separate groups of researchers independently reported evidence of the Hofstadter butterfly spectrum in graphene devices fabricated on hexagonal boron nitride substrates"
   ]
  },
  {
   "cell_type": "code",
   "execution_count": null,
   "metadata": {
    "collapsed": true
   },
   "outputs": [],
   "source": []
  }
 ],
 "metadata": {
  "kernelspec": {
   "display_name": "Python 3",
   "language": "python",
   "name": "python3"
  },
  "language_info": {
   "codemirror_mode": {
    "name": "ipython",
    "version": 3
   },
   "file_extension": ".py",
   "mimetype": "text/x-python",
   "name": "python",
   "nbconvert_exporter": "python",
   "pygments_lexer": "ipython3",
   "version": "3.5.1"
  }
 },
 "nbformat": 4,
 "nbformat_minor": 0
}
