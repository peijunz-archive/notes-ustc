{
 "cells": [
  {
   "cell_type": "markdown",
   "metadata": {},
   "source": [
    "# Energy density for Electrostatic Field\n",
    "$$E_\\pm=\\frac{kq_\\pm}{r_\\pm^3}\\vec r_\\pm,\\quad \\vec r_\\pm=\\vec r\\pm a\\hat z$$\n",
    "\n",
    "We want to prove $$\\frac{kq_+q_-}{2a}=\\int\\epsilon \\vec E_1\\cdot \\vec E_2\\mathrm{d} V=\\frac{kq_+q_-}{4\\pi}\\int  \\frac{\\vec r_+\\cdot \\vec r_-}{r_+^3r_-^3} \\mathrm{d} V$$\n",
    "\n",
    "We choose $a=1$, so:\n",
    "$$\n",
    "\\begin{align}\n",
    "\\int\\frac{\\vec r_+\\cdot \\vec r_-}{r_+^3r_-^3}\\mathrm{d} V&=\\iiint\\frac{r^2-1}{\\sqrt{(r^2+1)^2-4r^2\\cos^2\\theta}^3}r^2\\sin\\theta \\mathrm{d} r\\mathrm{d}\\theta \\mathrm{d}\\phi\\\\\n",
    "&=2\\pi\\int_0^\\infty\\mathrm{d} r\\int_{-1}^{1}\\mathrm{d} x \\frac{r^2(r^2-1)}{[(r^2+1)^2-4r^2x^2]^{3/2}}, \\quad x=\\cos\\theta\\\\\n",
    "&=2\\pi\\int_0^\\infty\\mathrm{d} r\\,\\frac{r^2(r^2-1)}{(r^2+1)^3} \\int_{-1}^1[1-k^2x^2]^{-3/2}\\mathrm{d} x, \\quad k=\\frac{2r}{r^2+1}\\\\\n",
    "&=2\\pi\\int_0^\\infty\\mathrm{d} r\\,\\frac{r^2(r^2-1)}{(r^2+1)^3} \\frac{2}{\\sqrt{1-k^2}}\\\\\n",
    "&=4\\pi\\int_0^\\infty\\frac{\\mathrm{d} r}{(r+1/r)^2} \\frac{r^2-1}{|r^2-1|}\\\\\n",
    "&=-4\\pi\\left[\\int_0^1\\,\\frac{\\mathrm{d} r}{(r+1/r)^2}+\\int_{\\infty}^1\\,\\frac{\\mathrm{d} r}{(r+1/r)^2}\\right]\\\\\n",
    "&=-4\\pi\\left[\\int_0^1\\frac{\\mathrm{d} r}{(r+1/r)^2}+\\int_0^1\\frac{\\mathrm{d}(1/r')}{(r'+1/r')^2}\\right],\\quad r'=1/r\\\\\n",
    "&=-4\\pi \\int_\\infty^2 \\mathrm{d} t/t^2\\\\\n",
    "&=2\\pi\n",
    "\\end{align}\n",
    "$$"
   ]
  },
  {
   "cell_type": "code",
   "execution_count": null,
   "metadata": {
    "collapsed": true
   },
   "outputs": [],
   "source": []
  }
 ],
 "metadata": {
  "kernelspec": {
   "display_name": "Python 3",
   "language": "python",
   "name": "python3"
  },
  "language_info": {
   "codemirror_mode": {
    "name": "ipython",
    "version": 3
   },
   "file_extension": ".py",
   "mimetype": "text/x-python",
   "name": "python",
   "nbconvert_exporter": "python",
   "pygments_lexer": "ipython3",
   "version": "3.5.1"
  }
 },
 "nbformat": 4,
 "nbformat_minor": 0
}
