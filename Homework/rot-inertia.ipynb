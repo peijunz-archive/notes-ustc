{
 "cells": [
  {
   "cell_type": "markdown",
   "metadata": {},
   "source": [
    "$$I_x+I_y+I_z=2\\sum_i m_ir^2_i$$"
   ]
  },
  {
   "cell_type": "markdown",
   "metadata": {
    "collapsed": true
   },
   "source": [
    "Kinetic energy of a special axis with angular velocity $\\Omega$, and the velocity is $\\Omega\\times r$, kinetic energy is $$E_k\\propto v^2=(\\Omega\\times r)^2=\\Omega_i\\Omega_i r_jr_j-\\Omega_ir_r\\Omega_jr_j=\\Omega_i(r^2\\delta_{ij}-r_ir_j)\\Omega_j$$"
   ]
  },
  {
   "cell_type": "markdown",
   "metadata": {},
   "source": [
    "$$E_k=\\frac{1}{2}\\int \\rho v^2dV=\\frac{1}{2}\\int \\rho \\Omega_i(r^2\\delta_{ij}-r_ir_j)\\Omega_jdV=\\frac{1}{2}\\Omega_iI_{ij}\\Omega_j$$"
   ]
  },
  {
   "cell_type": "markdown",
   "metadata": {},
   "source": [
    "We define $$I_{ij}=\\int\\rho\\left(r^2\\delta_{ij}-r_ir_j\\right)dV$$"
   ]
  },
  {
   "cell_type": "code",
   "execution_count": null,
   "metadata": {
    "collapsed": true
   },
   "outputs": [],
   "source": []
  }
 ],
 "metadata": {
  "kernelspec": {
   "display_name": "Python 3",
   "language": "python",
   "name": "python3"
  },
  "language_info": {
   "codemirror_mode": {
    "name": "ipython",
    "version": 3
   },
   "file_extension": ".py",
   "mimetype": "text/x-python",
   "name": "python",
   "nbconvert_exporter": "python",
   "pygments_lexer": "ipython3",
   "version": "3.5.1"
  }
 },
 "nbformat": 4,
 "nbformat_minor": 0
}
