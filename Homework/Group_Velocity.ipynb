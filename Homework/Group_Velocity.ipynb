{
 "cells": [
  {
   "cell_type": "markdown",
   "metadata": {
    "collapsed": false
   },
   "source": [
    "# Group Velocity"
   ]
  },
  {
   "cell_type": "markdown",
   "metadata": {},
   "source": [
    "$$\n",
    "\\begin{align}\n",
    "r(x,t)&=\\int_{\\omega_0+\\Delta}^{\\omega_0-\\Delta}\\tilde A(\\omega)\\exp[i(k(\\omega)x-\\omega t)]d\\omega\\\\\n",
    "      &=\\exp[i(k(\\omega_0)x-\\omega_0 t)]\\int_{-\\Delta}^\\Delta \\tilde A(\\omega_0+\\Omega)\\exp\\left[i\\left(\\frac{\\mathrm{d}k}{\\mathrm{d}\\omega}x-t\\right)\\Omega\\right]d\\Omega\\\\\n",
    "      &=A\\left(\\frac{\\mathrm{d}k}{\\mathrm{d}\\omega}x-t\\right)\\exp[i(k(\\omega_0)x-\\omega_0 t)]\n",
    "\\end{align}\n",
    "$$\n",
    "\n",
    "So the real Amplitude\n",
    "$$A'(x,t)=\\left|A\\left(\\frac{\\mathrm{d}k}{\\mathrm{d}\\omega}x-t\\right)\\right|=A'(x-v_gt),\\quad v_g=\\frac{\\mathrm{d}\\omega}{\\mathrm{d}k}$$"
   ]
  },
  {
   "cell_type": "code",
   "execution_count": null,
   "metadata": {
    "collapsed": true
   },
   "outputs": [],
   "source": []
  }
 ],
 "metadata": {
  "kernelspec": {
   "display_name": "Python 3",
   "language": "python",
   "name": "python3"
  },
  "language_info": {
   "codemirror_mode": {
    "name": "ipython",
    "version": 3
   },
   "file_extension": ".py",
   "mimetype": "text/x-python",
   "name": "python",
   "nbconvert_exporter": "python",
   "pygments_lexer": "ipython3",
   "version": "3.5.1"
  }
 },
 "nbformat": 4,
 "nbformat_minor": 0
}
