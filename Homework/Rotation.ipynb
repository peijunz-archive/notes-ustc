{
 "cells": [
  {
   "cell_type": "markdown",
   "metadata": {},
   "source": [
    "Total force $F'=\\sqrt{G^2+(F\\cos\\theta)^2-2G(F\\cos\\theta)\\cos\\theta}=\\sqrt{G^2+F(F-2G)\\cos^2\\theta}$, where $F$ is the centrifugal force in the equator.\n",
    "\n",
    "As long as $F(F-2G)>0$, $F'$ is largest in the equator where $\\theta=0$ "
   ]
  },
  {
   "cell_type": "code",
   "execution_count": null,
   "metadata": {
    "collapsed": true
   },
   "outputs": [],
   "source": []
  }
 ],
 "metadata": {
  "kernelspec": {
   "display_name": "Python 3",
   "language": "python",
   "name": "python3"
  },
  "language_info": {
   "codemirror_mode": {
    "name": "ipython",
    "version": 3
   },
   "file_extension": ".py",
   "mimetype": "text/x-python",
   "name": "python",
   "nbconvert_exporter": "python",
   "pygments_lexer": "ipython3",
   "version": "3.5.1"
  }
 },
 "nbformat": 4,
 "nbformat_minor": 0
}
