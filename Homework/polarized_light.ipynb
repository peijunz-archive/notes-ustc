{
 "cells": [
  {
   "cell_type": "markdown",
   "metadata": {},
   "source": [
    "# 线偏振光合成\n",
    "考虑 $$x=\\cos t, y=A\\cos t+B\\sin t$$\n",
    "\n",
    "容易得出$$B\\sin t=(y-Ax)$$\n",
    "\n",
    "因此有$$B^2x^2+(y-Ax)^2=B^2$$"
   ]
  },
  {
   "cell_type": "markdown",
   "metadata": {},
   "source": [
    "展开得到$$(A^2+B^2)x^2-2Axy+y^2=B^2$$亦即$$\\mathbf{x}^T\\begin{bmatrix}A^2+B^2& -A\\\\-A&1\\end{bmatrix}\\mathbf{x}=B^2$$其中$$\\mathbf{x}^T=(x\\;y)$$\n",
    "\n",
    "显然二次型矩阵是（半）正定的：\n",
    "$$A^2+B^2>0, \\det\\left(\\begin{bmatrix}A^2+B^2& -A\\\\-A&1\\end{bmatrix}\\right)=B^2\\geq0$$\n",
    "所以如果$B\\neq0$是个椭圆，$B=0$对应是直线"
   ]
  },
  {
   "cell_type": "code",
   "execution_count": null,
   "metadata": {
    "collapsed": true
   },
   "outputs": [],
   "source": []
  }
 ],
 "metadata": {
  "kernelspec": {
   "display_name": "Python 3",
   "language": "python",
   "name": "python3"
  },
  "language_info": {
   "codemirror_mode": {
    "name": "ipython",
    "version": 3
   },
   "file_extension": ".py",
   "mimetype": "text/x-python",
   "name": "python",
   "nbconvert_exporter": "python",
   "pygments_lexer": "ipython3",
   "version": "3.5.1"
  }
 },
 "nbformat": 4,
 "nbformat_minor": 0
}
