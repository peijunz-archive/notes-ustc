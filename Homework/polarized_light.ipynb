{
 "cells": [
  {
   "cell_type": "markdown",
   "metadata": {},
   "source": [
    "# 线偏振光合成\n",
    "考虑 $$x=\\cos t, y=A\\cos t+B\\sin t$$\n",
    "\n",
    "容易得出$$B\\sin t=(y-Ax)$$\n",
    "\n",
    "因此有$$B^2x^2+(y-Ax)^2=B^2$$"
   ]
  },
  {
   "cell_type": "markdown",
   "metadata": {},
   "source": [
    "展开$$(A^2+B^2)x^2-2Axy+y^2=B^2\\Leftrightarrow \\mathbf{x}^T\\begin{bmatrix}A^2+B^2& -A\\\\-A&1\\end{bmatrix}\\mathbf{x}=B^2$$\n",
    "\n",
    "$$1+A^2>0, \\det\\left(\\begin{bmatrix}1+A^2& -A\\\\-A&1\\end{bmatrix}\\right)>0$$\n",
    "二次型矩阵是正定的，所以是个椭圆"
   ]
  },
  {
   "cell_type": "code",
   "execution_count": null,
   "metadata": {
    "collapsed": true
   },
   "outputs": [],
   "source": []
  }
 ],
 "metadata": {
  "kernelspec": {
   "display_name": "Python 3",
   "language": "python",
   "name": "python3"
  },
  "language_info": {
   "codemirror_mode": {
    "name": "ipython",
    "version": 3
   },
   "file_extension": ".py",
   "mimetype": "text/x-python",
   "name": "python",
   "nbconvert_exporter": "python",
   "pygments_lexer": "ipython3",
   "version": "3.5.1"
  }
 },
 "nbformat": 4,
 "nbformat_minor": 0
}
