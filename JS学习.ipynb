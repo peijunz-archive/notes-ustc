{
 "cells": [
  {
   "cell_type": "markdown",
   "metadata": {},
   "source": [
    "# Javascript 学习小记\n",
    "## 起因\n",
    "研究了一下Linux平台做笔记的软件，发现为知笔记半死不活，bug很多。其他的笔记程序尝试了leanote等各种软件都感觉难以使用，要么功能太弱，要么没有linux客户端。总计一下我想要的笔记软件的要求：\n",
    "+ 支持Markdown\n",
    " + 支持嵌入代码块的语法高亮\n",
    " + 支持latex输入一些基本的数学公式\n",
    "+ 电脑上使用起来方便\n",
    "+ 方便用手机查看\n",
    "+ 方便分享给其他人\n",
    "+ 软件稳定，无明显BUG，体积小，依赖少\n",
    "\n",
    "最终我发现了[NBViewer](http://nbviewer.jupyter.org/)+[Jupyter Notebook](http://nbviewer.jupyter.org/)+[Github](http://github.com/)/[Gist](https://gist.github.com/)的组合。\n",
    "\n",
    "+ `存在的问题`：刷新麻烦，需要手动加`?flush=true`\n",
    "+ `解决方案`：UserScript脚本[Refresh NBViewer Button](https://greasyfork.org/en/scripts/23855-refresh-nbviewer-button)。具体请看描述。\n",
    "\n",
    "为了写这个脚本，特意学习了一点js"
   ]
  },
  {
   "cell_type": "markdown",
   "metadata": {},
   "source": [
    "## 基本知识\n",
    "+ 获取元素的方法`demo=document.getElementById('demo')`还有`getElementsByTagName, getElementsByClassName`等\n",
    "+ 元素的内容`innerHTML`与属性`src`, `href`, `style`等\n",
    "+ `style.dislay='none'`可以隐藏元素，`block`可以显示隐藏的\n",
    "+ `<p id=\"demo\" style=\"display:none\">Hello JavaScript!</p>`键值对的方式设置`style`的子属性\n",
    "+ `type`属性有什么用\n",
    "+ To use an external script, put the name of the script file in the `src` attribute of a `<script>` tag"
   ]
  },
  {
   "cell_type": "markdown",
   "metadata": {},
   "source": [
    "## 输出\n",
    "+ HTML可以用`document.write()`直接全部删改，或者修改元素的`innerHTML`修改文本\n",
    "+ `window.alert()`或者直接`alert()`\n",
    "+ `console.log()`，按F12出现控制台，用于调试"
   ]
  },
  {
   "cell_type": "markdown",
   "metadata": {},
   "source": [
    "## 语法\n",
    "+ 类似于C语言，分号结尾语句（多个语句可以写在一行），等号初始化变量，注释用`//`或`/**/`\n",
    "+ 变量类型只有`var`?动态类型？\n",
    "+ 函数用`function`前缀，不需要返回类型。函数体用花括号。\n",
    "+ 字符串用单双引号都可以，类似于Python，js可以字符串直接相加\n",
    "+ 首字母小写的驼峰命名\n",
    "+ 3 equal signs mean \"equality without type coercion\"，双等号只判断转换后\n",
    "+ `2 + 3 + \"5\" + 7 + 9`等于`'5579'`\n",
    "+ `++ -- *= /= += -=`\n",
    "+ `typeof instanceof`\n",
    "+ `5/2==.5`\n",
    "+ `**` Exponentiation\n",
    "+ `var cars = [\"Saab\", \"Volvo\", \"BMW\"];`类似于py的list\n",
    "+ `var x = {firstName:\"John\", lastName:\"Doe\"};`dict\n",
    "+ In HTML, all global variables will become window variables. "
   ]
  },
  {
   "cell_type": "markdown",
   "metadata": {
    "collapsed": true
   },
   "source": [
    "# 待续"
   ]
  },
  {
   "cell_type": "code",
   "execution_count": null,
   "metadata": {
    "collapsed": true
   },
   "outputs": [],
   "source": []
  }
 ],
 "metadata": {
  "kernelspec": {
   "display_name": "Python 3",
   "language": "python",
   "name": "python3"
  },
  "language_info": {
   "codemirror_mode": {
    "name": "ipython",
    "version": 3
   },
   "file_extension": ".py",
   "mimetype": "text/x-python",
   "name": "python",
   "nbconvert_exporter": "python",
   "pygments_lexer": "ipython3",
   "version": "3.5.1"
  }
 },
 "nbformat": 4,
 "nbformat_minor": 0
}
