{
 "cells": [
  {
   "cell_type": "code",
   "execution_count": 7,
   "metadata": {
    "collapsed": false
   },
   "outputs": [
    {
     "name": "stdout",
     "output_type": "stream",
     "text": [
      "---------------求解24点---------------\n",
      "输入一串数字，空格隔开，例如: 2 3 5 6，输入q退出\n",
      ">>> 11 12 9 2\n",
      ">>> 6 6 6 6\n",
      "[6, 6, 6, 6]\n",
      "[6, 6, 12]\n",
      "[12, 12]\n",
      "[24]\n",
      ">>> q\n"
     ]
    }
   ],
   "source": [
    "#! /usr/bin/env python3\n",
    "# 求解24点的程序\n",
    "def pmtd(x,y):\n",
    "    \"Plus minus times divide\"\n",
    "    if y==0:\n",
    "        x,y=y,x\n",
    "    if x==0:\n",
    "        \"0 can not be denominator\"\n",
    "        return [y,-y,0]\n",
    "    return [x+y, x-y, y-x, x*y, x/y, y/x]\n",
    "def contract(l,i,j):\n",
    "    \"Remove i j and add a space\"\n",
    "    return l[0:i]+l[i+1:j]+l[j+1:]+[0]\n",
    "def arithn(numl,n=24):\n",
    "    '''Give out an process to give the given arithmetic result such as 24'''\n",
    "    l=len(numl)\n",
    "    if l==1:\n",
    "        if abs(numl[0]-n)<1e-6:\n",
    "            return [[n]]\n",
    "        else:\n",
    "            return False\n",
    "    for i in range(l-1):\n",
    "        for j in range(i+1,l):\n",
    "            lis=pmtd(numl[i],numl[j])\n",
    "            sl=contract(numl,i,j)\n",
    "            for k in lis:\n",
    "                sl[-1]=k\n",
    "                res=arithn(sl,n)\n",
    "                if res:\n",
    "                    res.append(numl)\n",
    "                    return res\n",
    "    return False\n",
    "if __name__==\"__main__\":\n",
    "    print(\"-\"*15+\"求解24点\"+\"-\"*15)\n",
    "    help=\"输入一串数字，空格隔开，例如: 2 3 5 6，输入q退出\"\n",
    "    print(help)\n",
    "    while True:\n",
    "        s=input(\">>> \")\n",
    "        if s == \"q\":\n",
    "            break\n",
    "        s=s.replace(\" \",\",\")\n",
    "        s='['+s+']'\n",
    "        try:\n",
    "            numl=eval(s)\n",
    "        except:\n",
    "            print(help)\n",
    "            continue\n",
    "        t=arithn(numl)\n",
    "        if t:\n",
    "            for i in t[::-1]:\n",
    "                print(i)"
   ]
  },
  {
   "cell_type": "code",
   "execution_count": null,
   "metadata": {
    "collapsed": true
   },
   "outputs": [],
   "source": []
  }
 ],
 "metadata": {
  "kernelspec": {
   "display_name": "Python 3",
   "language": "python",
   "name": "python3"
  },
  "language_info": {
   "codemirror_mode": {
    "name": "ipython",
    "version": 3
   },
   "file_extension": ".py",
   "mimetype": "text/x-python",
   "name": "python",
   "nbconvert_exporter": "python",
   "pygments_lexer": "ipython3",
   "version": "3.6.0"
  }
 },
 "nbformat": 4,
 "nbformat_minor": 0
}
