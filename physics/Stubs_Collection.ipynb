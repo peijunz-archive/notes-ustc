{
 "cells": [
  {
   "cell_type": "code",
   "execution_count": 1,
   "metadata": {
    "collapsed": false
   },
   "outputs": [
    {
     "name": "stdout",
     "output_type": "stream",
     "text": [
      "Using matplotlib backend: agg\n",
      "Populating the interactive namespace from numpy and matplotlib\n"
     ]
    }
   ],
   "source": [
    "%pylab\n",
    "%matplotlib inline\n",
    "%config InlineBackend.figure_format = 'svg'"
   ]
  },
  {
   "cell_type": "markdown",
   "metadata": {},
   "source": [
    "# Kinetic Energy in Special Relativity\n",
    "\n",
    "$$E_k=m-m_0=\\frac{m^2-m_0^2}{m+m_0}=\\frac{p^2}{m+m_0}\\sim\\frac{p^2}{2m}$$"
   ]
  },
  {
   "cell_type": "markdown",
   "metadata": {},
   "source": [
    "# Day/Night Ratio\n",
    "假设太阳直射点纬度为$\\varphi$，观察者纬度为$\\theta$，则夜晚比例$\\arccos(\\mathrm{bound}(\\tan\\theta\\tan\\varphi))/\\pi$"
   ]
  },
  {
   "cell_type": "code",
   "execution_count": 11,
   "metadata": {
    "collapsed": true
   },
   "outputs": [],
   "source": [
    "def bound(x):\n",
    "    if abs(x)>1:\n",
    "        return x/abs(x)\n",
    "    else:\n",
    "        return x"
   ]
  },
  {
   "cell_type": "markdown",
   "metadata": {
    "collapsed": true
   },
   "source": [
    "# Rotional Inertia\n",
    "Kinetic energy of a special axis with angular velocity $\\Omega$, and the velocity is $\\Omega\\times r$, kinetic energy is $$E_k\\propto v^2=(\\Omega\\times r)^2=\\Omega_i\\Omega_i r_jr_j-\\Omega_ir_r\\Omega_jr_j=\\Omega_i(r^2\\delta_{ij}-r_ir_j)\\Omega_j$$\n",
    "$$E_k=\\frac{1}{2}\\int \\rho v^2dV=\\frac{1}{2}\\int \\rho \\Omega_i(r^2\\delta_{ij}-r_ir_j)\\Omega_jdV=\\frac{1}{2}\\Omega_iI_{ij}\\Omega_j$$\n",
    "We define $$I_{ij}=\\int\\rho\\left(r^2\\delta_{ij}-r_ir_j\\right)dV$$\n",
    "It is obvious that $I_x+I_y+I_z=2\\sum_i m_ir^2_i$"
   ]
  },
  {
   "cell_type": "markdown",
   "metadata": {},
   "source": [
    "# 线偏振光合成\n",
    "考虑 $$x=\\cos t, y=A\\cos t+B\\sin t$$\n",
    "\n",
    "容易得出$$B\\sin t=(y-Ax)$$\n",
    "\n",
    "因此有$$B^2x^2+(y-Ax)^2=B^2$$\n",
    "\n",
    "展开得到$$(A^2+B^2)x^2-2Axy+y^2=B^2$$亦即$$\\mathbf{x}^T\\begin{bmatrix}A^2+B^2& -A\\\\-A&1\\end{bmatrix}\\mathbf{x}=B^2$$其中$$\\mathbf{x}^T=(x\\;y)$$\n",
    "\n",
    "显然二次型矩阵是（半）正定的：\n",
    "$$A^2+B^2>0, \\det\\left(\\begin{bmatrix}A^2+B^2& -A\\\\-A&1\\end{bmatrix}\\right)=B^2\\geq0$$\n",
    "所以如果$B\\neq0$是个椭圆，$B=0$对应是直线"
   ]
  },
  {
   "cell_type": "markdown",
   "metadata": {},
   "source": [
    "# Group Velocity\n",
    "For a perfect wavepacket to be stable, the $\\tilde A$ should be localized to a small area, so we can expand $k$ to the first order term of $\\Omega=\\omega-\\omega_0$ at $\\omega_0$.\n",
    "$$\n",
    "\\begin{align}\n",
    "r(x,t)&=\\int_{\\omega_0+\\Delta}^{\\omega_0-\\Delta}\\tilde A(\\omega)\\exp[i(k(\\omega)x-\\omega t)]d\\omega\\\\\n",
    "      &=\\exp[i(k(\\omega_0)x-\\omega_0 t)]\\int_{-\\Delta}^\\Delta \\tilde A(\\omega_0+\\Omega)\\exp\\left[i\\left(\\frac{\\mathrm{d}k}{\\mathrm{d}\\omega}x-t\\right)\\Omega\\right]d\\Omega\\\\\n",
    "      &=A\\left(\\frac{\\mathrm{d}k}{\\mathrm{d}\\omega}x-t\\right)\\exp[i(k(\\omega_0)x-\\omega_0 t)]\n",
    "\\end{align}\n",
    "$$\n",
    "\n",
    "Here $A$ is propotional to the anti-Fourier Transformation of $\\tilde A$. So the real Amplitude of $r$ is\n",
    "$$A'(x,t)=\\left|A\\left(\\frac{\\mathrm{d}k}{\\mathrm{d}\\omega}x-t\\right)\\right|=A'(x-v_gt),\\quad v_g=\\frac{\\mathrm{d}\\omega}{\\mathrm{d}k}$$"
   ]
  },
  {
   "cell_type": "code",
   "execution_count": null,
   "metadata": {
    "collapsed": true
   },
   "outputs": [],
   "source": []
  }
 ],
 "metadata": {
  "kernelspec": {
   "display_name": "Python 3",
   "language": "python",
   "name": "python3"
  },
  "language_info": {
   "codemirror_mode": {
    "name": "ipython",
    "version": 3
   },
   "file_extension": ".py",
   "mimetype": "text/x-python",
   "name": "python",
   "nbconvert_exporter": "python",
   "pygments_lexer": "ipython3",
   "version": "3.5.1"
  }
 },
 "nbformat": 4,
 "nbformat_minor": 0
}
