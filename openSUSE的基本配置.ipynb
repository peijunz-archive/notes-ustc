{
 "cells": [
  {
   "cell_type": "markdown",
   "metadata": {},
   "source": [
    "## 配置文件\n",
    "+ `.bashrc`\n",
    "+ `.vimrc`\n",
    "+ `.gitignore_global`\n",
    "+ `.repo`\n",
    "  - 用`sudo zypper ar --repo`添加\n",
    "  - [oss](http://mirrors.ustc.edu.cn/opensuse/tumbleweed/repo/oss/)\n",
    "  - [non-oss](http://mirrors.ustc.edu.cn/opensuse/tumbleweed/repo/non-oss/)\n",
    "  - [Packman](ftp://ftp.twaren.net/Linux/Packman/suse/openSUSE_Tumbleweed/)\n",
    "    - 安装`freshplayerplugin`\n",
    "  - gmg137\n",
    "  - MargueriteSu\n",
    "  - [MegaSync](https://mega.nz/linux/MEGAsync/openSUSE_Tumbleweed/)\n",
    "\n",
    "## 资源文件\n",
    "+ WPS依赖的Symbols字体\n",
    "+ LaTeX需要的Sim系列字体\n",
    "+ Goldendict词库以及所需要的音标字体\n",
    "\n",
    "<!-- more -->\n",
    "\n",
    "## 安装软件\n",
    "+ Dolphin预览插件`kffmpegthumbnailer kdegraphics-thumbnailers`\n",
    "+ `breeze-gtk`\n",
    "+ 必备软件\n",
    "    + `git`\n",
    "    + `qt-creator`\n",
    "    + `kate marknoto`\n",
    "    + `goldendict>=1.5`\n",
    "    + `okular poppler-data`\n",
    "    + `wqy-mocrohei-fonts`\n",
    "+ ShadowSocks\n",
    "    + `shadowsocks-qt`\n",
    "    + `sslocal`\n",
    "+ Jupyter`python3-jupyter_qtconsole python3-matplotlib python3-scipy python3-numpy python3-sympy`\n",
    "+ 语言支持`kde-l10n-zh_CN translation-update-zh_CN bundle-lang-kde-z\n",
    "+ 安装fcitx框架与小狼毫输入法等组件`fcitx fcitx-rime fcitx-qt5`\n",
    "+ 多媒体`vlc smplayer`\n",
    "+ WPS视情况而定`wps-office cups-libs-32bit`\n",
    "+ 安装TeX参见[TeXLive最小安装](/TeXLive最小安装.md)\n",
    "+ 禁用自动刷新`sudo zypper mr -Ra`\n",
    "+ `inkscape gimp`\n",
    "+ 多媒体解码`libxine2-codecs ffmpeg lame gstreamer-plugins-bad gstreamer-plugins-ugly gstreamer-plugins-ugly-orig-addon gstreamer-plugins-libav`\n",
    "+ `smplayer vlc vlc-codecs`\n",
    "\n",
    "## 某些问题\n",
    "+ 防zip乱码`sudo zypper in unzip-rcc`\n",
    "+ matplotlib后端设置\n",
    "+ 自定义模板后用刷新缓存用`mktexlsr`\n",
    "\n",
    "## 清除无用包\n",
    "+ `pullin-flash-player`\n",
    "+ `patterns-openSUSE-kde_office`\n",
    "+ `patterns-openSUSE-games patterns-openSUSE-kde_games libkdegames6 kdegames-carddecks-default `\n",
    "+ kmines\n",
    "+ kontact\n",
    "+ korganizer\n",
    "+ kcalc\n",
    "+ knote\n",
    "+ kaddressbook\n",
    "+ Akonadi\n",
    "+ k3b\n",
    "+ kopete\n",
    "+ Konversation\n",
    "+ kmail\n"
   ]
  },
  {
   "cell_type": "code",
   "execution_count": null,
   "metadata": {
    "collapsed": true
   },
   "outputs": [],
   "source": []
  }
 ],
 "metadata": {
  "kernelspec": {
   "display_name": "Python 3",
   "language": "python",
   "name": "python3"
  },
  "language_info": {
   "codemirror_mode": {
    "name": "ipython",
    "version": 3
   },
   "file_extension": ".py",
   "mimetype": "text/x-python",
   "name": "python",
   "nbconvert_exporter": "python",
   "pygments_lexer": "ipython3",
   "version": "3.5.1"
  }
 },
 "nbformat": 4,
 "nbformat_minor": 0
}
