{
 "cells": [
  {
   "cell_type": "markdown",
   "metadata": {},
   "source": [
    "# Real skew-symmetric Matrix\n",
    "+ $A=-A', B=iA\\Rightarrow B=-B'=B^\\dagger$\n",
    "+ $B$ is pure imaginary Hermian Matrix, and all the eigen values of $A$ are imaginary because they are real for $B$\n",
    "+ As $A$ is real, all the nonreal eigen values must be in conjugation to another eigen value. So the eigen value is either 0 or positive."
   ]
  },
  {
   "cell_type": "code",
   "execution_count": 1,
   "metadata": {
    "collapsed": false
   },
   "outputs": [
    {
     "data": {
      "text/plain": [
       "10"
      ]
     },
     "execution_count": 1,
     "metadata": {},
     "output_type": "execute_result"
    }
   ],
   "source": [
    "1+9"
   ]
  },
  {
   "cell_type": "code",
   "execution_count": 8,
   "metadata": {
    "collapsed": true
   },
   "outputs": [],
   "source": [
    "from sympy.physics.vector import *"
   ]
  },
  {
   "cell_type": "code",
   "execution_count": 3,
   "metadata": {
    "collapsed": true
   },
   "outputs": [],
   "source": [
    "from sympy import *"
   ]
  },
  {
   "cell_type": "code",
   "execution_count": 4,
   "metadata": {
    "collapsed": true
   },
   "outputs": [],
   "source": [
    "init_printing(pretty_print=True)"
   ]
  },
  {
   "cell_type": "code",
   "execution_count": 7,
   "metadata": {
    "collapsed": false
   },
   "outputs": [],
   "source": [
    "R=ReferenceFrame('R')"
   ]
  },
  {
   "cell_type": "code",
   "execution_count": 81,
   "metadata": {
    "collapsed": false
   },
   "outputs": [],
   "source": [
    "x=R[0]\n",
    "y=R[1]\n",
    "z=R[2]\n",
    "r=sqrt(x**2+y**2+z**2)\n",
    "vr=x*R.x+y*R.y+z*R.z"
   ]
  },
  {
   "cell_type": "code",
   "execution_count": 96,
   "metadata": {
    "collapsed": false
   },
   "outputs": [],
   "source": [
    "a=symbols('a', positive=True)"
   ]
  },
  {
   "cell_type": "code",
   "execution_count": 98,
   "metadata": {
    "collapsed": false
   },
   "outputs": [],
   "source": [
    "f=curl((y*R.x+(x+y)*R.y+z*R.z)/a*exp(x*y/a**2)+R.x*(1+(y/a)**3/3)+R.y*x*y**2/a**3, R)"
   ]
  },
  {
   "cell_type": "code",
   "execution_count": 92,
   "metadata": {
    "collapsed": false
   },
   "outputs": [],
   "source": [
    "d=divergence(((x-y)*z*(R.x+R.y)+(x**2-y**2)*R.z)/r**3, R)"
   ]
  },
  {
   "cell_type": "code",
   "execution_count": 103,
   "metadata": {
    "collapsed": false
   },
   "outputs": [
    {
     "data": {
      "image/png": "[encoded data removed]",
      "text/latex": [
       "$$\\frac{R_{x} R_{z}}{a^{3}} e^{\\frac{R_{x} R_{y}}{a^{2}}}\\mathbf{\\hat{r}_x} -  \\frac{R_{y} R_{z}}{a^{3}} e^{\\frac{R_{x} R_{y}}{a^{2}}}\\mathbf{\\hat{r}_y} + \\frac{R_{y}^{2}}{a^{3}} e^{\\frac{R_{x} R_{y}}{a^{2}}}\\mathbf{\\hat{r}_z}$$"
      ],
      "text/plain": [
       "        Rₓ⋅R_y\n",
       "        ──────\n",
       "           2  \n",
       "          a   \n",
       "Rₓ⋅R_z⋅ℯ      \n",
       "──────────────\n",
       "       3      \n",
       "      a        r_x +           Rₓ⋅R_y \n",
       "          ────── \n",
       "             2   \n",
       "            a    \n",
       "-R_y⋅R_z⋅ℯ       \n",
       "─────────────────\n",
       "         3       \n",
       "        a         r_y +       Rₓ⋅R_y\n",
       "      ──────\n",
       "         2  \n",
       "   2    a   \n",
       "R_y ⋅ℯ      \n",
       "────────────\n",
       "      3     \n",
       "     a       r_z"
      ]
     },
     "execution_count": 103,
     "metadata": {},
     "output_type": "execute_result"
    }
   ],
   "source": [
    "f.simplify()"
   ]
  },
  {
   "cell_type": "code",
   "execution_count": 97,
   "metadata": {
    "collapsed": false
   },
   "outputs": [
    {
     "data": {
      "image/png": "[encoded data removed]",
      "text/latex": [
       "$$a$$"
      ],
      "text/plain": [
       "a"
      ]
     },
     "execution_count": 97,
     "metadata": {},
     "output_type": "execute_result"
    }
   ],
   "source": [
    "a"
   ]
  },
  {
   "cell_type": "code",
   "execution_count": 55,
   "metadata": {
    "collapsed": false
   },
   "outputs": [
    {
     "data": {
      "text/plain": [
       "<bound method ReferenceFrame.ang_acc_in of R>"
      ]
     },
     "execution_count": 55,
     "metadata": {},
     "output_type": "execute_result"
    }
   ],
   "source": [
    "R.ang_acc_in"
   ]
  },
  {
   "cell_type": "code",
   "execution_count": 60,
   "metadata": {
    "collapsed": false
   },
   "outputs": [],
   "source": [
    "theta=acos(x/r)"
   ]
  },
  {
   "cell_type": "code",
   "execution_count": 63,
   "metadata": {
    "collapsed": false
   },
   "outputs": [
    {
     "data": {
      "image/png": "[encoded data removed]",
      "text/latex": [
       "$$\\frac{R_{x}}{\\sqrt{R_{x}^{2} + R_{y}^{2} + R_{z}^{2}}}$$"
      ],
      "text/plain": [
       "          Rₓ          \n",
       "──────────────────────\n",
       "   ___________________\n",
       "  ╱   2      2      2 \n",
       "╲╱  Rₓ  + R_y  + R_z  "
      ]
     },
     "execution_count": 63,
     "metadata": {},
     "output_type": "execute_result"
    }
   ],
   "source": [
    "cos(theta)"
   ]
  },
  {
   "cell_type": "code",
   "execution_count": 64,
   "metadata": {
    "collapsed": false,
    "scrolled": true
   },
   "outputs": [
    {
     "data": {
      "image/png": "[encoded data removed]",
      "text/latex": [
       "$$\\sqrt{- \\frac{R_{x}^{2}}{R_{x}^{2} + R_{y}^{2} + R_{z}^{2}} + 1}$$"
      ],
      "text/plain": [
       "      _________________________\n",
       "     ╱            2            \n",
       "    ╱           Rₓ             \n",
       "   ╱   - ───────────────── + 1 \n",
       "  ╱        2      2      2     \n",
       "╲╱       Rₓ  + R_y  + R_z      "
      ]
     },
     "execution_count": 64,
     "metadata": {},
     "output_type": "execute_result"
    }
   ],
   "source": [
    "sin(theta)"
   ]
  },
  {
   "cell_type": "code",
   "execution_count": 66,
   "metadata": {
    "collapsed": false
   },
   "outputs": [],
   "source": [
    "t=tan(theta)"
   ]
  },
  {
   "cell_type": "code",
   "execution_count": 68,
   "metadata": {
    "collapsed": false
   },
   "outputs": [],
   "source": [
    "t=simplify(t)"
   ]
  },
  {
   "cell_type": "code",
   "execution_count": 70,
   "metadata": {
    "collapsed": false
   },
   "outputs": [
    {
     "data": {
      "image/png": "[encoded data removed]",
      "text/latex": [
       "$$\\frac{1}{R_{x}} \\sqrt{\\frac{R_{y}^{2}}{R_{x}^{2} + R_{y}^{2} + R_{z}^{2}} + \\frac{R_{z}^{2}}{R_{x}^{2} + R_{y}^{2} + R_{z}^{2}}} \\sqrt{R_{x}^{2} + R_{y}^{2} + R_{z}^{2}}$$"
      ],
      "text/plain": [
       "      _______________________________________                       \n",
       "     ╱           2                   2           ___________________\n",
       "    ╱         R_y                 R_z           ╱   2      2      2 \n",
       "   ╱   ───────────────── + ───────────────── ⋅╲╱  Rₓ  + R_y  + R_z  \n",
       "  ╱      2      2      2     2      2      2                        \n",
       "╲╱     Rₓ  + R_y  + R_z    Rₓ  + R_y  + R_z                         \n",
       "────────────────────────────────────────────────────────────────────\n",
       "                                 Rₓ                                 "
      ]
     },
     "execution_count": 70,
     "metadata": {},
     "output_type": "execute_result"
    }
   ],
   "source": [
    "cancel(t)"
   ]
  },
  {
   "cell_type": "code",
   "execution_count": 79,
   "metadata": {
    "collapsed": false
   },
   "outputs": [
    {
     "data": {
      "image/png": "[encoded data removed]",
      "text/latex": [
       "$$R_{x} R_{z} e^{R_{x} R_{y}}\\mathbf{\\hat{r}_x} -  R_{y} R_{z} e^{R_{x} R_{y}}\\mathbf{\\hat{r}_y} + R_{y}^{2} e^{R_{x} R_{y}}\\mathbf{\\hat{r}_z}$$"
      ],
      "text/plain": [
       "        Rₓ⋅R_y\n",
       "Rₓ⋅R_z⋅ℯ       r_x +           Rₓ⋅R_y\n",
       "-R_y⋅R_z⋅ℯ       r_y +    2  Rₓ⋅R_y\n",
       "R_y ⋅ℯ       r_z"
      ]
     },
     "execution_count": 79,
     "metadata": {},
     "output_type": "execute_result"
    }
   ],
   "source": [
    "f.simplify()"
   ]
  },
  {
   "cell_type": "code",
   "execution_count": 90,
   "metadata": {
    "collapsed": false
   },
   "outputs": [
    {
     "data": {
      "image/png": "[encoded data removed]",
      "text/latex": [
       "$$-  \\frac{2 R_{x} R_{z}}{\\left(R_{x}^{2} + R_{y}^{2} + R_{z}^{2}\\right)^{2}}\\mathbf{\\hat{r}_x} -  \\frac{2 R_{y} R_{z}}{\\left(R_{x}^{2} + R_{y}^{2} + R_{z}^{2}\\right)^{2}}\\mathbf{\\hat{r}_y} + (\\frac{2 R_{x}^{2}}{\\left(R_{x}^{2} + R_{y}^{2} + R_{z}^{2}\\right)^{2}} + \\frac{2 R_{y}^{2}}{\\left(R_{x}^{2} + R_{y}^{2} + R_{z}^{2}\\right)^{2}} - \\frac{2}{R_{x}^{2} + R_{y}^{2} + R_{z}^{2}})\\mathbf{\\hat{r}_z}$$"
      ],
      "text/plain": [
       "     -2⋅Rₓ⋅R_z      \n",
       "────────────────────\n",
       "                   2\n",
       "⎛  2      2      2⎞ \n",
       "⎝Rₓ  + R_y  + R_z ⎠  r_x +     -2⋅R_y⋅R_z      \n",
       "────────────────────\n",
       "                   2\n",
       "⎛  2      2      2⎞ \n",
       "⎝Rₓ  + R_y  + R_z ⎠  r_y + ⎛           2                       2                           ⎞\n",
       "⎜       2⋅Rₓ                   2⋅R_y                   2        ⎟\n",
       "⎜──────────────────── + ──────────────────── - ─────────────────⎟\n",
       "⎜                   2                      2     2      2      2⎟\n",
       "⎜⎛  2      2      2⎞    ⎛  2      2      2⎞    Rₓ  + R_y  + R_z ⎟\n",
       "⎝⎝Rₓ  + R_y  + R_z ⎠    ⎝Rₓ  + R_y  + R_z ⎠                     ⎠ r_z"
      ]
     },
     "execution_count": 90,
     "metadata": {},
     "output_type": "execute_result"
    }
   ],
   "source": [
    "curl(vr.cross(R.z)/r**2, R)"
   ]
  },
  {
   "cell_type": "code",
   "execution_count": 89,
   "metadata": {
    "collapsed": false
   },
   "outputs": [
    {
     "data": {
      "image/png": "[encoded data removed]",
      "text/latex": [
       "$$R_{x}\\mathbf{\\hat{r}_x} + R_{y}\\mathbf{\\hat{r}_y} + R_{z}\\mathbf{\\hat{r}_z}$$"
      ],
      "text/plain": [
       "Rₓ r_x + R_y r_y + R_z r_z"
      ]
     },
     "execution_count": 89,
     "metadata": {},
     "output_type": "execute_result"
    }
   ],
   "source": [
    "vr"
   ]
  },
  {
   "cell_type": "code",
   "execution_count": null,
   "metadata": {
    "collapsed": true
   },
   "outputs": [],
   "source": []
  }
 ],
 "metadata": {
  "kernelspec": {
   "display_name": "Python 3",
   "language": "python",
   "name": "python3"
  },
  "language_info": {
   "codemirror_mode": {
    "name": "ipython",
    "version": 3
   },
   "file_extension": ".py",
   "mimetype": "text/x-python",
   "name": "python",
   "nbconvert_exporter": "python",
   "pygments_lexer": "ipython3",
   "version": "3.5.1"
  }
 },
 "nbformat": 4,
 "nbformat_minor": 0
}
