{
 "cells": [
  {
   "cell_type": "markdown",
   "metadata": {},
   "source": [
    "《$T_n$格点上逾渗的几何结构》是我的本科毕业论文。\n",
    "\n",
    "+ 论文[下载地址](https://bitbucket.org/zpj/bachelor-thesis/downloads/thesis.pdf)\n",
    "+ 幻灯片[下载地址](https://bitbucket.org/zpj/bachelor-thesis/downloads/slide.pdf)，待上传\n",
    "\n",
    "具体算法原理等请参考论文。以及章彦博写的[算法原理](http://zhangyanbo.leanote.com/post/%E7%AE%97%E6%B3%95%E8%AF%B4%E6%98%8E)\n",
    "\n"
   ]
  },
  {
   "cell_type": "code",
   "execution_count": null,
   "metadata": {
    "collapsed": true
   },
   "outputs": [],
   "source": []
  }
 ],
 "metadata": {
  "kernelspec": {
   "display_name": "Python 3",
   "language": "python",
   "name": "python3"
  },
  "language_info": {
   "codemirror_mode": {
    "name": "ipython",
    "version": 3
   },
   "file_extension": ".py",
   "mimetype": "text/x-python",
   "name": "python",
   "nbconvert_exporter": "python",
   "pygments_lexer": "ipython3",
   "version": "3.5.1"
  }
 },
 "nbformat": 4,
 "nbformat_minor": 0
}
