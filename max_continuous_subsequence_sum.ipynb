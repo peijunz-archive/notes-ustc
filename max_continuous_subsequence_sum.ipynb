{
 "cells": [
  {
   "cell_type": "code",
   "execution_count": 1,
   "metadata": {
    "collapsed": false,
    "scrolled": false
   },
   "outputs": [
    {
     "name": "stdout",
     "output_type": "stream",
     "text": [
      "Using matplotlib backend: agg\n",
      "Populating the interactive namespace from numpy and matplotlib\n"
     ]
    }
   ],
   "source": [
    "%pylab\n",
    "%matplotlib inline"
   ]
  },
  {
   "cell_type": "code",
   "execution_count": 2,
   "metadata": {
    "collapsed": true
   },
   "outputs": [],
   "source": [
    "def maxsum(l):\n",
    "    '''最大子序列和问题'''\n",
    "    m=s=0\n",
    "    for i in l:\n",
    "        s=max(s, 0)\n",
    "        s+=i\n",
    "        m=max(m, s)\n",
    "    return m"
   ]
  },
  {
   "cell_type": "code",
   "execution_count": 3,
   "metadata": {
    "collapsed": true
   },
   "outputs": [],
   "source": [
    "def maxprod(l):\n",
    "    '''最大子序列积问题'''\n",
    "    m=pos=0\n",
    "    neg=0\n",
    "    for i in l:\n",
    "        pos=max(1, pos)*i\n",
    "        neg=neg*i\n",
    "        if i<0:\n",
    "            pos, neg=neg, pos\n",
    "        m=max(m, pos)\n",
    "    return m"
   ]
  },
  {
   "cell_type": "code",
   "execution_count": 45,
   "metadata": {
    "collapsed": false
   },
   "outputs": [],
   "source": [
    "def minabssum(l, pos=False):\n",
    "    '''pos\n",
    "    True    最小正子序列\n",
    "    False   最小绝对值子序列问题'''\n",
    "    cum=cumsum(l)\n",
    "    s=[[cum[i], i+1] for i in range(len(l))]\n",
    "    s.append([0, 0])\n",
    "    t=sorted(s)\n",
    "    print(t)\n",
    "    minabs=inf\n",
    "    for i in range(len(l)):\n",
    "        if((not pos) or t[i+1][1]>t[i][1]):\n",
    "            minabs=min(minabs, t[i+1][0]-t[i][0])\n",
    "    return minabs"
   ]
  },
  {
   "cell_type": "code",
   "execution_count": null,
   "metadata": {
    "collapsed": true
   },
   "outputs": [],
   "source": []
  }
 ],
 "metadata": {
  "kernelspec": {
   "display_name": "Python 3",
   "language": "python",
   "name": "python3"
  },
  "language_info": {
   "codemirror_mode": {
    "name": "ipython",
    "version": 3
   },
   "file_extension": ".py",
   "mimetype": "text/x-python",
   "name": "python",
   "nbconvert_exporter": "python",
   "pygments_lexer": "ipython3",
   "version": "3.5.1"
  }
 },
 "nbformat": 4,
 "nbformat_minor": 0
}
