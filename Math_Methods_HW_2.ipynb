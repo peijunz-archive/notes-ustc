{
 "cells": [
  {
   "cell_type": "code",
   "execution_count": 138,
   "metadata": {
    "collapsed": true
   },
   "outputs": [],
   "source": [
    "from sympy import *\n",
    "init_printing(use_unicode=False, wrap_line=False, no_global=True)"
   ]
  },
  {
   "cell_type": "code",
   "execution_count": 92,
   "metadata": {
    "collapsed": false
   },
   "outputs": [],
   "source": [
    "M=Matrix([[ 2, -3,  1,  3],\n",
    "       [ 1,  4, -3, -3],\n",
    "       [ 5,  3, -1, -1],\n",
    "       [ 3, -6, -3,  1]])\n",
    "T=M.transpose()\n",
    "b1=Matrix([-4, 1, 8, -5])\n",
    "b2=Matrix([-10, 0, -3, -24])"
   ]
  },
  {
   "cell_type": "code",
   "execution_count": 133,
   "metadata": {
    "collapsed": false
   },
   "outputs": [
    {
     "data": {
      "image/png": "[encoded data removed]",
      "text/latex": [
       "$$\\left ( \\left[\\begin{matrix}1 & 0 & 0 & 0\\\\\\frac{1}{2} & 1 & 0 & 0\\\\\\frac{5}{2} & \\frac{21}{11} & 1 & 0\\\\\\frac{3}{2} & - \\frac{3}{11} & - \\frac{12}{7} & 1\\end{matrix}\\right], \\quad \\left[\\begin{matrix}2 & -3 & 1 & 3\\\\0 & \\frac{11}{2} & - \\frac{7}{2} & - \\frac{9}{2}\\\\0 & 0 & \\frac{35}{11} & \\frac{1}{11}\\\\0 & 0 & 0 & - \\frac{32}{7}\\end{matrix}\\right], \\quad \\left [ \\right ]\\right )$$"
      ],
      "text/plain": [
       "([ 1     0      0    0], [2   -3    1      3  ], [])\n",
       " [                    ]  [                    ]     \n",
       " [1/2    1      0    0]  [0  11/2  -7/2  -9/2 ]     \n",
       " [                    ]  [                    ]     \n",
       " [      21            ]  [          35        ]     \n",
       " [5/2   --      1    0]  [0   0     --   1/11 ]     \n",
       " [      11            ]  [          11        ]     \n",
       " [                    ]  [                    ]     \n",
       " [3/2  -3/11  -12/7  1]  [0   0     0    -32/7]     "
      ]
     },
     "execution_count": 133,
     "metadata": {},
     "output_type": "execute_result"
    }
   ],
   "source": [
    "M.LUdecomposition()"
   ]
  },
  {
   "cell_type": "code",
   "execution_count": 134,
   "metadata": {
    "collapsed": false
   },
   "outputs": [],
   "source": [
    "L, U, P=_"
   ]
  },
  {
   "cell_type": "code",
   "execution_count": 148,
   "metadata": {
    "collapsed": false
   },
   "outputs": [
    {
     "data": {
      "image/png": "[encoded data removed]",
      "text/latex": [
       "$$\\left[\\begin{matrix}-4\\\\3\\\\\\frac{135}{11}\\\\\\frac{160}{7}\\end{matrix}\\right]$$"
      ],
      "text/plain": [
       "[ -4  ]\n",
       "[     ]\n",
       "[  3  ]\n",
       "[     ]\n",
       "[ 135 ]\n",
       "[ --- ]\n",
       "[  11 ]\n",
       "[     ]\n",
       "[160/7]"
      ]
     },
     "execution_count": 148,
     "metadata": {},
     "output_type": "execute_result"
    }
   ],
   "source": [
    "L.inv()*b1"
   ]
  },
  {
   "cell_type": "code",
   "execution_count": 140,
   "metadata": {
    "collapsed": false
   },
   "outputs": [
    {
     "data": {
      "image/png": "[encoded data removed]",
      "text/latex": [
       "$$\\left[\\begin{matrix}2\\\\-1\\\\4\\\\-5\\end{matrix}\\right]$$"
      ],
      "text/plain": [
       "[2 ]\n",
       "[  ]\n",
       "[-1]\n",
       "[  ]\n",
       "[4 ]\n",
       "[  ]\n",
       "[-5]"
      ]
     },
     "execution_count": 140,
     "metadata": {},
     "output_type": "execute_result"
    }
   ],
   "source": [
    "M.inv()*b1"
   ]
  },
  {
   "cell_type": "code",
   "execution_count": 102,
   "metadata": {
    "collapsed": false
   },
   "outputs": [
    {
     "data": {
      "image/png": "[encoded data removed]",
      "text/latex": [
       "$$\\left[\\begin{matrix}-5\\\\\\frac{10}{11}\\\\\\frac{137}{35}\\\\-3\\end{matrix}\\right]$$"
      ],
      "text/plain": [
       "[-5 ]\n",
       "[   ]\n",
       "[10 ]\n",
       "[-- ]\n",
       "[11 ]\n",
       "[   ]\n",
       "[137]\n",
       "[---]\n",
       "[ 35]\n",
       "[   ]\n",
       "[-3 ]"
      ]
     },
     "execution_count": 102,
     "metadata": {},
     "output_type": "execute_result"
    }
   ],
   "source": [
    "L.inv()*b2"
   ]
  },
  {
   "cell_type": "code",
   "execution_count": 101,
   "metadata": {
    "collapsed": false
   },
   "outputs": [
    {
     "data": {
      "image/png": "[encoded data removed]",
      "text/latex": [
       "$$\\left[\\begin{matrix}-1\\\\1\\\\4\\\\-3\\end{matrix}\\right]$$"
      ],
      "text/plain": [
       "[-1]\n",
       "[  ]\n",
       "[1 ]\n",
       "[  ]\n",
       "[4 ]\n",
       "[  ]\n",
       "[-3]"
      ]
     },
     "execution_count": 101,
     "metadata": {},
     "output_type": "execute_result"
    }
   ],
   "source": [
    "M.inv()*b2"
   ]
  },
  {
   "cell_type": "code",
   "execution_count": 121,
   "metadata": {
    "collapsed": false
   },
   "outputs": [
    {
     "name": "stdout",
     "output_type": "stream",
     "text": [
      "2 20\n",
      "-3 56\n",
      "1 82\n",
      "3 150\n"
     ]
    }
   ],
   "source": [
    "for i in range(4):\n",
    "    print(M[0, i], M.minorMatrix(0, i).det())"
   ]
  },
  {
   "cell_type": "code",
   "execution_count": 137,
   "metadata": {
    "collapsed": false
   },
   "outputs": [
    {
     "data": {
      "image/png": "[encoded data removed]",
      "text/latex": [
       "$$\\left[\\begin{matrix}2 & -3 & 1 & 3\\\\1 & 4 & -3 & -3\\\\5 & 3 & -1 & -1\\\\3 & -6 & -3 & 1\\end{matrix}\\right]$$"
      ],
      "text/plain": [
       "[2  -3  1   3 ]\n",
       "[             ]\n",
       "[1  4   -3  -3]\n",
       "[             ]\n",
       "[5  3   -1  -1]\n",
       "[             ]\n",
       "[3  -6  -3  1 ]"
      ]
     },
     "execution_count": 137,
     "metadata": {},
     "output_type": "execute_result"
    }
   ],
   "source": [
    "M"
   ]
  },
  {
   "cell_type": "code",
   "execution_count": 136,
   "metadata": {
    "collapsed": false
   },
   "outputs": [
    {
     "data": {
      "image/png": "[encoded data removed]",
      "text/latex": [
       "$$\\left[\\begin{matrix}1 & 0 & 0 & 0\\\\\\frac{1}{2} & 1 & 0 & 0\\\\\\frac{5}{2} & \\frac{21}{11} & 1 & 0\\\\\\frac{3}{2} & - \\frac{3}{11} & - \\frac{12}{7} & 1\\end{matrix}\\right]$$"
      ],
      "text/plain": [
       "[ 1     0      0    0]\n",
       "[                    ]\n",
       "[1/2    1      0    0]\n",
       "[                    ]\n",
       "[      21            ]\n",
       "[5/2   --      1    0]\n",
       "[      11            ]\n",
       "[                    ]\n",
       "[3/2  -3/11  -12/7  1]"
      ]
     },
     "execution_count": 136,
     "metadata": {},
     "output_type": "execute_result"
    }
   ],
   "source": [
    "L"
   ]
  },
  {
   "cell_type": "code",
   "execution_count": 135,
   "metadata": {
    "collapsed": false
   },
   "outputs": [
    {
     "data": {
      "image/png": "[encoded data removed]",
      "text/latex": [
       "$$\\left[\\begin{matrix}2 & -3 & 1 & 3\\\\0 & \\frac{11}{2} & - \\frac{7}{2} & - \\frac{9}{2}\\\\0 & 0 & \\frac{35}{11} & \\frac{1}{11}\\\\0 & 0 & 0 & - \\frac{32}{7}\\end{matrix}\\right]$$"
      ],
      "text/plain": [
       "[2   -3    1      3  ]\n",
       "[                    ]\n",
       "[0  11/2  -7/2  -9/2 ]\n",
       "[                    ]\n",
       "[          35        ]\n",
       "[0   0     --   1/11 ]\n",
       "[          11        ]\n",
       "[                    ]\n",
       "[0   0     0    -32/7]"
      ]
     },
     "execution_count": 135,
     "metadata": {},
     "output_type": "execute_result"
    }
   ],
   "source": [
    "U"
   ]
  },
  {
   "cell_type": "code",
   "execution_count": 147,
   "metadata": {
    "collapsed": false
   },
   "outputs": [
    {
     "data": {
      "image/png": "[encoded data removed]",
      "text/latex": [
       "$$\\left[\\begin{matrix}- \\frac{3}{2}\\\\\\frac{7}{2}\\\\- \\frac{3}{2}\\end{matrix}\\right]$$"
      ],
      "text/plain": [
       "[-3/2]\n",
       "[    ]\n",
       "[7/2 ]\n",
       "[    ]\n",
       "[-3/2]"
      ]
     },
     "execution_count": 147,
     "metadata": {},
     "output_type": "execute_result"
    }
   ],
   "source": [
    "Matrix([\n",
    "        [1,2,3],\n",
    "        [3,4,5],\n",
    "        [1,3,4]\n",
    "    ]).inv()*Matrix([1,2,3])"
   ]
  },
  {
   "cell_type": "code",
   "execution_count": 144,
   "metadata": {
    "collapsed": false
   },
   "outputs": [],
   "source": [
    "a, b=symbols('a,b')"
   ]
  },
  {
   "cell_type": "code",
   "execution_count": null,
   "metadata": {
    "collapsed": true
   },
   "outputs": [],
   "source": []
  }
 ],
 "metadata": {
  "kernelspec": {
   "display_name": "Python 3",
   "language": "python",
   "name": "python3"
  },
  "language_info": {
   "codemirror_mode": {
    "name": "ipython",
    "version": 3
   },
   "file_extension": ".py",
   "mimetype": "text/x-python",
   "name": "python",
   "nbconvert_exporter": "python",
   "pygments_lexer": "ipython3",
   "version": "3.5.1"
  }
 },
 "nbformat": 4,
 "nbformat_minor": 0
}
