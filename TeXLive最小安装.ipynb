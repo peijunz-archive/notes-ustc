{
 "cells": [
  {
   "cell_type": "markdown",
   "metadata": {},
   "source": [
    "完整安装过于庞大，所以可以通过`--no-recommends`选项自定义之。\n",
    "\n",
    "```bash\n",
    "sudo zypper in --no-recommends kile texstudio texlive-ctex texlive-xecjk\n",
    "```\n",
    "\n",
    "其他需要安装的texlive包还有\n",
    "+ `synctex` 正反向搜索\n",
    "+ `xetex-def` 图像相关要用\n",
    "+ `euenc` Unicode支持\n",
    "+ `commath` 数学支持\n",
    "+ `jknapltx` 杂\n",
    "+ `zapfding` 和 `rsfs` 是需要的字体\n",
    "\n",
    "Size:\n",
    "+ TeX=247M\n",
    "+ TeXStudio=60M\n",
    "+ Kile=6M\n",
    "\n",
    "故只用了247M。而总下载大小也并不大，129M下载量。\n",
    "一句话：\n",
    "`sudo zypper in --no-recommends kile texstudio texlive-ctex texlive-xecjk texlive-synctex texlive-xetex-def texlive-euenc texlive-commath texlive-jknapltx texlive-zapfding texlive-rsfs`\n"
   ]
  },
  {
   "cell_type": "code",
   "execution_count": null,
   "metadata": {
    "collapsed": true
   },
   "outputs": [],
   "source": []
  }
 ],
 "metadata": {
  "kernelspec": {
   "display_name": "Python 3",
   "language": "python",
   "name": "python3"
  },
  "language_info": {
   "codemirror_mode": {
    "name": "ipython",
    "version": 3
   },
   "file_extension": ".py",
   "mimetype": "text/x-python",
   "name": "python",
   "nbconvert_exporter": "python",
   "pygments_lexer": "ipython3",
   "version": "3.5.1"
  }
 },
 "nbformat": 4,
 "nbformat_minor": 0
}
