{
 "cells": [
  {
   "cell_type": "markdown",
   "metadata": {},
   "source": [
    "## 正向搜索——配置Kile\n",
    "\n",
    "+ `设置`→`配置Kile`→`工具`→`编译`→选中相应编译选项如`xelatex`→右侧下拉框选中`PDF Modern`→下侧参数框内添加`-synctex=1`\n",
    "+ `设置`→`配置Kile`→`工具`→`编译`→选中`ViewPDF`→下侧参数框内添加`–unique`\n",
    "+ `设置`→`配置快捷键`→`搜索栏`中搜索`ForwardPDF`→修改好它的快捷键为你想用的快捷键\n",
    "+ 在配置工具栏中加一个`ForwardPDF按钮`即可。但是这样会使得失去了设置中的一些按钮。**毫无疑问这是Kile的一个Bug**，为此你可以添加一个配置Kile的按钮和配置快捷键的按钮到工具栏。\n",
    "\n",
    "设置好了之后你就可以通过快捷键或者工具栏按钮进行正向搜索了\n",
    "\n",
    "## 反向搜索——配置Okular\n",
    "\n",
    "+ `设置`→`配置Okular`→`编辑器`→选择`Kile`\n",
    "+ Okular处于**浏览模式**时`Shift+左键`点击，即可跳到Kile中。可能Kile的配色中当前行不够突出，你可以修改当前行的背景颜色，使得其较为**突出**。\n",
    "\n"
   ]
  }
 ],
 "metadata": {
  "kernelspec": {
   "display_name": "Python 3",
   "language": "python",
   "name": "python3"
  },
  "language_info": {
   "codemirror_mode": {
    "name": "ipython",
    "version": 3
   },
   "file_extension": ".py",
   "mimetype": "text/x-python",
   "name": "python",
   "nbconvert_exporter": "python",
   "pygments_lexer": "ipython3",
   "version": "3.5.1"
  }
 },
 "nbformat": 4,
 "nbformat_minor": 0
}
