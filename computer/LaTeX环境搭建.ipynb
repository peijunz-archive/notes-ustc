{
 "cells": [
  {
   "cell_type": "markdown",
   "metadata": {},
   "source": [
    "## 最小安装\n",
    "> **缺点** 经常缺包，带宽足够的话没必要这样做\n",
    "\n",
    "完整安装过于庞大，所以可以通过`--no-recommends`选项自定义之。\n",
    "\n",
    "```bash\n",
    "sudo zypper in --no-recommends kile texstudio texlive-ctex texlive-xecjk\n",
    "```\n",
    "\n",
    "其他需要安装的texlive包还有\n",
    "+ `synctex` 正反向搜索\n",
    "+ `xetex-def` 图像相关要用\n",
    "+ `euenc` Unicode支持\n",
    "+ `commath` 数学支持\n",
    "+ `jknapltx` 杂\n",
    "+ `zapfding` 和 `rsfs` 是需要的字体\n",
    "\n",
    "Size:\n",
    "+ TeX=247M\n",
    "+ TeXStudio=60M\n",
    "+ Kile=6M\n",
    "\n",
    "故只用了247M。而总下载大小也并不大，129M下载量。\n",
    "一句话：\n",
    "`sudo zypper in --no-recommends kile texstudio texlive-ctex texlive-xecjk texlive-synctex texlive-xetex-def texlive-euenc texlive-commath texlive-jknapltx texlive-zapfding texlive-rsfs`\n"
   ]
  },
  {
   "cell_type": "markdown",
   "metadata": {
    "collapsed": true
   },
   "source": [
    "## NotoSans字体的配置\n",
    "```latex\n",
    "\\setCJKmainfont[BoldFont=Noto Sans CJK SC Medium,ItalicFont=KaiTi]{SimSun}\n",
    "\\setCJKsansfont[BoldFont=Noto Sans CJK SC Medium]{Noto Sans CJK SC Regular}\n",
    "\\setCJKmonofont{Noto Sans CJK SC Light}\n",
    "\\setCJKfamilyfont{zhkai}{KaiTi}\n",
    "\\setCJKfamilyfont{ltnoto}{Noto Sans CJK SC Light}\n",
    "\\setCJKfamilyfont{zhsong}{SimSun}\n",
    "\\setCJKfamilyfont{noto}[BoldFont=Noto Sans CJK SC Medium]{Noto Sans CJK SC Regular}\n",
    "\\NewDocumentCommand\\songti{}{\\CJKfamily{zhsong}}\n",
    "\\NewDocumentCommand\\fangsong{}{\\CJKfamily{zhfs}}\n",
    "\\NewDocumentCommand\\kaishu{}{\\CJKfamily{zhkai}}\n",
    "\\NewDocumentCommand\\noto{}{\\CJKfamily{noto}}\n",
    "```\n"
   ]
  },
  {
   "cell_type": "markdown",
   "metadata": {
    "collapsed": true
   },
   "source": [
    "## Kile和Okular的正反向搜索\n",
    "### 正向搜索——配置Kile\n",
    "\n",
    "+ `设置`→`配置Kile`→`工具`→`编译`→选中相应编译选项如`xelatex`→右侧下拉框选中`PDF Modern`→下侧参数框内添加`-synctex=1`\n",
    "+ `设置`→`配置Kile`→`工具`→`编译`→选中`ViewPDF`→下侧参数框内添加`–unique`\n",
    "+ `设置`→`配置快捷键`→`搜索栏`中搜索`ForwardPDF`→修改好它的快捷键为你想用的快捷键\n",
    "+ 在配置工具栏中加一个`ForwardPDF按钮`即可。但是这样会使得失去了设置中的一些按钮。**毫无疑问这是Kile的一个Bug**，为此你可以添加一个配置Kile的按钮和配置快捷键的按钮到工具栏。\n",
    "\n",
    "设置好了之后你就可以通过快捷键或者工具栏按钮进行正向搜索了\n",
    "\n",
    "### 反向搜索——配置Okular\n",
    "\n",
    "+ `设置`→`配置Okular`→`编辑器`→选择`Kile`\n",
    "+ Okular处于**浏览模式**时`Shift+左键`点击，即可跳到Kile中。可能Kile的配色中当前行不够突出，你可以修改当前行的背景颜色，使得其较为**突出**。\n"
   ]
  },
  {
   "cell_type": "code",
   "execution_count": null,
   "metadata": {
    "collapsed": true
   },
   "outputs": [],
   "source": []
  }
 ],
 "metadata": {
  "kernelspec": {
   "display_name": "Python 3",
   "language": "python",
   "name": "python3"
  },
  "language_info": {
   "codemirror_mode": {
    "name": "ipython",
    "version": 3
   },
   "file_extension": ".py",
   "mimetype": "text/x-python",
   "name": "python",
   "nbconvert_exporter": "python",
   "pygments_lexer": "ipython3",
   "version": "3.5.1"
  }
 },
 "nbformat": 4,
 "nbformat_minor": 0
}
