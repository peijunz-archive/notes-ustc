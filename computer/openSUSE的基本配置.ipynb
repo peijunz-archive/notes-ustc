{
 "cells": [
  {
   "cell_type": "markdown",
   "metadata": {},
   "source": [
    "## 配置文件\n",
    "+ `.bashrc`\n",
    "+ `.vimrc`\n",
    "+ `.gitignore_global`\n",
    "+ 软件源配置文件`.repo`\n",
    "  - 用`sudo zypper ar --repo`添加\n",
    "  - [oss](http://mirrors.ustc.edu.cn/opensuse/tumbleweed/repo/oss/)\n",
    "  - [non-oss](http://mirrors.ustc.edu.cn/opensuse/tumbleweed/repo/non-oss/)\n",
    "  - [Packman](ftp://ftp.twaren.net/Linux/Packman/suse/openSUSE_Tumbleweed/)\n",
    "  - gmg137\n",
    "  - MargueriteSu\n",
    "  - [MegaSync](https://mega.nz/linux/MEGAsync/openSUSE_Tumbleweed/)\n",
    "  - 禁用自动刷新`sudo zypper mr -Ra`\n",
    "\n",
    "\n",
    "## 资源文件\n",
    "+ WPS依赖的Symbols字体\n",
    "+ LaTeX需要的Sim系列字体\n",
    "+ Goldendict词库以及所需要的音标字体\n"
   ]
  },
  {
   "cell_type": "markdown",
   "metadata": {},
   "source": [
    "## 安装软件\n",
    "+ Dolphin预览插件`kffmpegthumbnailer kdegraphics-thumbnailers`\n",
    "+ 必备软件\n",
    "    + `git`\n",
    "    + Qt Creator `libqt5-creator`\n",
    "    + `kate`\n",
    "    + `goldendict>=1.5`\n",
    "    + `okular poppler-data`\n",
    "    + `wqy-mocrohei-fonts`\n",
    "+ ShadowSocks\n",
    "    + `shadowsocks-qt`\n",
    "    + `sslocal`\n",
    "+ Jupyter`python3-jupyter_qtconsole python3-matplotlib python3-scipy python3-numpy python3-sympy`\n",
    "+ 中文\n",
    " + `kde-l10n-zh_CN translation-update-zh_CN bundle-lang-kde-zh_CN`\n",
    " + 安装fcitx框架与rime等输入法组件`fcitx fcitx-rime fcitx-qt5`\n",
    "+ 安装TeX参见[TeXLive最小安装](TeXLive最小安装.ipynb)，Kile/TexStudio\n",
    "+ 画图`inkscape gimp krita`\n",
    "+ 多媒体`smplayer vlc vlc-codecs`\n",
    " + 解码`libxine2-codecs ffmpeg lame gstreamer-plugins-bad gstreamer-plugins-ugly gstreamer-plugins-ugly-orig-addon gstreamer-plugins-libav`\n",
    "+ HandyOutliner\n",
    "+ Xournal\n",
    "+ Mathematica\n",
    "+ VirtualBox\n",
    "+ KGet\n",
    "+ Gparted"
   ]
  },
  {
   "cell_type": "markdown",
   "metadata": {},
   "source": [
    "## 清除无用包\n",
    "+ `pullin-flash-player`\n",
    "+ `patterns-openSUSE-kde_office`\n",
    "+ `patterns-openSUSE-games patterns-openSUSE-kde_games libkdegames6 kdegames-carddecks-default `\n",
    "+ kmines\n",
    "+ kontact\n",
    "+ korganizer\n",
    "+ kcalc\n",
    "+ knote\n",
    "+ kaddressbook\n",
    "+ Akonadi\n",
    "+ k3b\n",
    "+ kopete\n",
    "+ Konversation\n",
    "+ kmail\n"
   ]
  },
  {
   "cell_type": "markdown",
   "metadata": {
    "collapsed": true
   },
   "source": [
    "## 一些其他问题\n",
    "+ GoldenDict等程序聚焦问题需要单独设置，或者全局不阻止抢占焦点\n",
    "+ MEGA设置好同步的目录等\n",
    "+ fcitx设置好rime输入法。词库？\n",
    "+ dns错误？`sudo vim /etc/resolv.conf`，添加`nameserver xxxx`\n",
    "+ 设置好zsh\n",
    "+ Dolphin设置好pdf等的预览功能，`use common setting for all folders`，设置好`maxline`，设置好菜单栏，侧栏快捷方式\n",
    "+ 设置好打印机\n",
    "+ 设置Spectacle截屏？\n",
    "+ 防zip乱码`sudo zypper in unzip-rcc`\n",
    "+ matplotlib后端设置\n",
    "+ 自定义模板后用刷新缓存用`mktexlsr`"
   ]
  },
  {
   "cell_type": "markdown",
   "metadata": {},
   "source": [
    "## 一些私有软件\n",
    "+ master pdf editor\n",
    "+ Foxit\n",
    "+ WPS(已经有x86_64版本)\n",
    "+ Netease music\n",
    "+ freshplayerplugin"
   ]
  },
  {
   "cell_type": "markdown",
   "metadata": {},
   "source": [
    "## 重新分区/home\n",
    "为安装系统等做准备\n",
    "### 困难：\n",
    "\n",
    "+ 要想调整分区必须卸载/home\n",
    "+ 使用中无法卸载\n",
    "\n",
    "### 解决方案\n",
    "\n",
    "1. 先在控制台(Ctrl+Alt+F1)中输入`sudo init 1`，再按照提示输入密码就进入了单用户模式。\n",
    "1. 输入`umount /home`取消挂载`/home`\n",
    "1. 运行yast命令打开文本模式的yast(使用Tab和上下左右移动光标，Enter确认)\n",
    "1. 进入System—–Partitioner\n",
    "1. 按enter选中`/home`分区\n",
    "1. 选中resize，按照提示进行操作\n",
    "1. 输入`poweroff`重启\n"
   ]
  },
  {
   "cell_type": "code",
   "execution_count": null,
   "metadata": {
    "collapsed": true
   },
   "outputs": [],
   "source": []
  }
 ],
 "metadata": {
  "kernelspec": {
   "display_name": "Python 3",
   "language": "python",
   "name": "python3"
  },
  "language_info": {
   "codemirror_mode": {
    "name": "ipython",
    "version": 3
   },
   "file_extension": ".py",
   "mimetype": "text/x-python",
   "name": "python",
   "nbconvert_exporter": "python",
   "pygments_lexer": "ipython3",
   "version": "3.6.0"
  }
 },
 "nbformat": 4,
 "nbformat_minor": 0
}
