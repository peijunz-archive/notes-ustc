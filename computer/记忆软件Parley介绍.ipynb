{
 "cells": [
  {
   "cell_type": "markdown",
   "metadata": {},
   "source": [
    "> Parley是一个帮助你记忆的程序，对我们GRE党来说，最重要的莫过于记忆单词了。\n",
    "\n",
    "## 安装\n",
    "在终端中输入`sudo zypper in parley`即可安装好Parley。\n",
    "\n",
    "但是Parley是一个程序而已，我们还需要下载相关的词库作为数据支持。\n",
    "\n",
    "## 获取词库\n",
    "Parley本身自带的词库非常少，但是他的词库可扩展性非常强。\n",
    "\n",
    "### 从xls等表格转化其他词汇表\n",
    "尽管没有多少人用过Parley，然而有不少前辈有电子版的红宝书、要你命3000等文档。\n",
    "\n",
    "和Parley格式最接近的莫非xls这一类用`\\t`分割的表格文件了，于是你上网搜索“GRE 红宝书 xls”，“再要你命 3000 xls”等就能找到相关的词汇表文件了。之后然后复制粘贴到Parley中再保存你就有词库了！\n",
    "\n",
    "<!-- more -->\n",
    "### 处理转换其他格式文件\n",
    "你想要背的词汇表网上找不到xls，但是能找到具有某种格式的txt/doc。这时候就要祭出终极大杀器——正则表达式了。进行一系列替换后，你最终得到了你想要的词库。或者你像我一样并不精通正则表达式可以写一个Python脚本来实现格式转换、解析为Parley的`xml`格式\n",
    "\n",
    "## 用Goldendict配合Parley\n",
    "设置好Goldendict屏幕取词后就可以对**背单词界面**的单词进行取词了\n",
    "\n",
    "## 优缺点\n",
    "\n",
    "+ 可以自由设置各种选项，灵活性好\n",
    "+ Parley可以显示音标，而音标可以通过程序自动添加（尽管音标库并不完善）\n",
    "+ 用Goldendict取词功能可以方便的对单词进行查询，获取读音释义等信息\n",
    "+ 没法自动读出来读音，尽管可以用Goldendict稍微弥补\n",
    "+ 背单词的算法是：复习时熟词优先级高，熟词出现的时间间隔较大，这样使得熟词像滚雪球一样越来越大！\n",
    "+ 编辑功能太弱，不过你自己可以写Kross脚本编辑，虽然这种插件语言我并不知道有哪些API\n",
    "+ 源文档是纯文本文件，即使不会使用Kross脚本也可以写Python等脚本进行相应处理\n",
    "\n",
    "## 背单词策略——追求快速反应\n",
    "使用Parley背单词，背了几个假期。最后Verbal考了158（然并暖）。个人的一些经验：\n",
    "+ 如果需要想一会才能知道意思请果断点击不知道，并看它的释义是否熟悉\n",
    "+ 这还有一个好处是，对生词可以快速建立影响而不是浪费时间瞎猜\n",
    "+ 复习的快可以极大的加快你的刷词速度\n",
    "+ 瞎猜而总是猜错会导致一种沮丧感，从而影响你背单词的情绪\n",
    "\n"
   ]
  },
  {
   "cell_type": "code",
   "execution_count": null,
   "metadata": {
    "collapsed": true
   },
   "outputs": [],
   "source": []
  }
 ],
 "metadata": {
  "kernelspec": {
   "display_name": "Python 3",
   "language": "python",
   "name": "python3"
  },
  "language_info": {
   "codemirror_mode": {
    "name": "ipython",
    "version": 3
   },
   "file_extension": ".py",
   "mimetype": "text/x-python",
   "name": "python",
   "nbconvert_exporter": "python",
   "pygments_lexer": "ipython3",
   "version": "3.5.1"
  }
 },
 "nbformat": 4,
 "nbformat_minor": 0
}
