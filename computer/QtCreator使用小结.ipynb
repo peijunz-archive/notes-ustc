{
 "cells": [
  {
   "cell_type": "markdown",
   "metadata": {},
   "source": [
    "# 用Qt Creator作为普通C++ IDE\n",
    "## Debug\n",
    "首先要看使用的是什么构建系统：\n",
    "+ `qmake` 不需要额外的设置\n",
    "+ `cmake` Debug需要在生成配置的时候进行额外参数设置\n",
    "+ `qbs` ???\n",
    "\n",
    "QtC在左下角的Debug按钮一定要在Debug模式下运行才能有效。\n",
    "\n",
    "进入Debug模式如果是`qmake`构建系统不需要额外配置。但是如果是`cmake`则每次都要重新生成配置。\n",
    "\n",
    "参考[Debug with cmake and qtcreator](http://mirko.windhoff.net/how_to/debug_with_cmake_and_qtcreator)可知生成配置的时候应当添加参数`-DCMAKE_BUILD_TYPE=Debug`\n",
    "\n",
    "## C++11\n",
    "\n",
    "+ CMake: `set(CMAKE_CXX_FLAGS \"${CMAKE_CXX_FLAGS} -std=c++11\")`\n",
    "+ qmake: `QMAKE_CXXFLAGS += -std=c++0x`\n"
   ]
  },
  {
   "cell_type": "code",
   "execution_count": null,
   "metadata": {
    "collapsed": true
   },
   "outputs": [],
   "source": []
  }
 ],
 "metadata": {
  "kernelspec": {
   "display_name": "Python 3",
   "language": "python",
   "name": "python3"
  },
  "language_info": {
   "codemirror_mode": {
    "name": "ipython",
    "version": 3
   },
   "file_extension": ".py",
   "mimetype": "text/x-python",
   "name": "python",
   "nbconvert_exporter": "python",
   "pygments_lexer": "ipython3",
   "version": "3.6.0"
  }
 },
 "nbformat": 4,
 "nbformat_minor": 0
}
