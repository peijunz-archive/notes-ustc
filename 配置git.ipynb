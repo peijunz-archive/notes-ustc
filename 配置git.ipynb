{
 "cells": [
  {
   "cell_type": "markdown",
   "metadata": {},
   "source": [
    "## 配置基本信息\n",
    "```bash\n",
    "git config --global user.name \"Peijun Zhu\"\n",
    "git config --global user.email \"zpj.ustc@gmail.com\"\n",
    "```\n",
    "## 生成/添加ssh-key\n",
    "```bash\n",
    "ssh-keygen -t rsa -b 4096 -C \"zpj.ustc@gmail.com\"\n",
    "cat id_rsa.pub\n",
    "```\n",
    "再把生成的内容贴入Github/Bitbucket等托管网站\n",
    "## 全局`.gitignore`"
   ]
  },
  {
   "cell_type": "code",
   "execution_count": null,
   "metadata": {
    "collapsed": true
   },
   "outputs": [],
   "source": []
  }
 ],
 "metadata": {
  "kernelspec": {
   "display_name": "Python 3",
   "language": "python",
   "name": "python3"
  },
  "language_info": {
   "codemirror_mode": {
    "name": "ipython",
    "version": 3
   },
   "file_extension": ".py",
   "mimetype": "text/x-python",
   "name": "python",
   "nbconvert_exporter": "python",
   "pygments_lexer": "ipython3",
   "version": "3.5.1"
  }
 },
 "nbformat": 4,
 "nbformat_minor": 0
}
