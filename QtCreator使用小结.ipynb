{
 "cells": [
  {
   "cell_type": "markdown",
   "metadata": {},
   "source": [
    "# QT Creator（简称QTC）作为普通C/C++的IDE的使用小结\n",
    "## 如何使用QTC来Debug\n",
    "首先要看你使用的是什么构建系统：\n",
    "+ `qmake` 不需要额外的设置\n",
    "+ `cmake` Debug需要在生成配置的时候进行额外参数设置\n",
    "+ `qbs` 没用过\n",
    "\n",
    "QtC在左下角两个绿色三角形按钮分别是运行与DEBUG。DEBUG按钮一定要在DEBUG模式下运行才能有效。\n",
    "\n",
    "进入Debug模式如果是`qmake`构建系统不需要额外配置。但是如果是`cmake`则每次都要重新生成配置。\n",
    "\n",
    "参考[Debug with cmake and qtcreator](http://mirko.windhoff.net/how_to/debug_with_cmake_and_qtcreator)可知生成配置的时候应当添加参数`-DCMAKE_BUILD_TYPE=Debug`\n",
    "\n",
    "## C++11的支持\n",
    "\n",
    "+ 使用CMake只需要`set(CMAKE_CXX_FLAGS \"${CMAKE_CXX_FLAGS} -std=c++11\")`即可\n",
    "+ qmake需要`QMAKE_CXXFLAGS += -std=c++0x`\n"
   ]
  },
  {
   "cell_type": "code",
   "execution_count": null,
   "metadata": {
    "collapsed": true
   },
   "outputs": [],
   "source": []
  }
 ],
 "metadata": {
  "kernelspec": {
   "display_name": "Python 3",
   "language": "python",
   "name": "python3"
  },
  "language_info": {
   "codemirror_mode": {
    "name": "ipython",
    "version": 3
   },
   "file_extension": ".py",
   "mimetype": "text/x-python",
   "name": "python",
   "nbconvert_exporter": "python",
   "pygments_lexer": "ipython3",
   "version": "3.5.1"
  }
 },
 "nbformat": 4,
 "nbformat_minor": 0
}
