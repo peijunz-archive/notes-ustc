{
 "cells": [
  {
   "cell_type": "markdown",
   "metadata": {},
   "source": [
    "```latex\n",
    "\\setCJKmainfont[BoldFont=Noto Sans CJK SC Medium,ItalicFont=KaiTi]{SimSun}\n",
    "\\setCJKsansfont[BoldFont=Noto Sans CJK SC Medium]{Noto Sans CJK SC Regular}\n",
    "\\setCJKmonofont{Noto Sans CJK SC Light}\n",
    "\\setCJKfamilyfont{zhkai}{KaiTi}\n",
    "\\setCJKfamilyfont{ltnoto}{Noto Sans CJK SC Light}\n",
    "\\setCJKfamilyfont{zhsong}{SimSun}\n",
    "\\setCJKfamilyfont{noto}[BoldFont=Noto Sans CJK SC Medium]{Noto Sans CJK SC Regular}\n",
    "\\NewDocumentCommand\\songti{}{\\CJKfamily{zhsong}}\n",
    "\\NewDocumentCommand\\fangsong{}{\\CJKfamily{zhfs}}\n",
    "\\NewDocumentCommand\\kaishu{}{\\CJKfamily{zhkai}}\n",
    "\\NewDocumentCommand\\noto{}{\\CJKfamily{noto}}\n",
    "```\n"
   ]
  },
  {
   "cell_type": "code",
   "execution_count": null,
   "metadata": {
    "collapsed": true
   },
   "outputs": [],
   "source": []
  }
 ],
 "metadata": {
  "kernelspec": {
   "display_name": "Python 3",
   "language": "python",
   "name": "python3"
  },
  "language_info": {
   "codemirror_mode": {
    "name": "ipython",
    "version": 3
   },
   "file_extension": ".py",
   "mimetype": "text/x-python",
   "name": "python",
   "nbconvert_exporter": "python",
   "pygments_lexer": "ipython3",
   "version": "3.5.1"
  }
 },
 "nbformat": 4,
 "nbformat_minor": 0
}
